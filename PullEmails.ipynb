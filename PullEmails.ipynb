{
 "cells": [
  {
   "cell_type": "code",
   "execution_count": 221,
   "id": "72c51e21-9033-452e-95f3-744123876899",
   "metadata": {},
   "outputs": [],
   "source": [
    "from requests import get\n",
    "from csv import DictReader\n",
    "from bs4 import BeautifulSoup as Soup\n",
    "from datetime import date\n",
    "from io import StringIO\n",
    "import pandas as pd"
   ]
  },
  {
   "cell_type": "code",
   "execution_count": 251,
   "id": "ca8fe257-ee31-412a-a1b3-d0d1ecf7a2d0",
   "metadata": {},
   "outputs": [],
   "source": [
    "ewarren_url = \"https://politicalemails.org/organizations/117\"\n",
    "dtrump_url = \"https://politicalemails.org/organizations/415\"\n",
    "\n",
    "hdr = {\n",
    "    'User-Agent': 'Mozilla/5.0 (X11; Linux x86_64) AppleWebKit/537.11 (KHTML, like Gecko) Chrome/23.0.1271.64 Safari/537.11',\n",
    "    'Accept': 'text/html,application/xhtml+xml,application/xml;q=0.9,*/*;q=0.8',\n",
    "    'Referer': 'https://cssspritegenerator.com',\n",
    "    'Accept-Charset': 'ISO-8859-1,utf-8;q=0.7,*;q=0.3',\n",
    "    'Accept-Encoding': 'none',\n",
    "    'Accept-Language': 'en-US,en;q=0.8',\n",
    "    'Connection': 'keep-alive'\n",
    "}"
   ]
  },
  {
   "cell_type": "code",
   "execution_count": 246,
   "id": "19651adc-22d6-4151-b746-8c1e5ef909d4",
   "metadata": {},
   "outputs": [],
   "source": [
    "def get_individual_message_links(base_url):\n",
    "    '''\n",
    "    Get the links to individual messages from a candidate's webpage\n",
    "    '''\n",
    "    d = get(base_url, headers=hdr)\n",
    "\n",
    "    # get the webpage content\n",
    "    soup = Soup(d.content, 'html.parser')\n",
    "\n",
    "    # filter to the instances of the links to individual messages\n",
    "    first50messages = soup.find_all('a', {'class': 'message-tease message-tease--list'})\n",
    "\n",
    "    # get the urls for the individual messages\n",
    "    message_links = [message['href'] for message in first50messages]\n",
    "    \n",
    "    return message_links"
   ]
  },
  {
   "cell_type": "code",
   "execution_count": 270,
   "id": "03fc3bff-91f1-4bfd-ae36-3fefd9a6ca08",
   "metadata": {},
   "outputs": [],
   "source": [
    "def get_message_contents(message_links, export=True):\n",
    "    '''\n",
    "    Get the contents of messages, given links to the messages\n",
    "    '''\n",
    "    all_text = {}\n",
    "    for url in message_links:\n",
    "        all_text[url] = {}\n",
    "        d = get(url, headers=hdr)\n",
    "        page_content = Soup(d.content, 'html.parser')\n",
    "        meta_keys = page_content.find_all('td', {'class': 'content-box-meta__key'})\n",
    "        meta_values = page_content.find_all('td', {'class': 'content-box-meta__value'})\n",
    "\n",
    "        # get the metadata\n",
    "        clean_keys = []\n",
    "        clean_values = []\n",
    "        for item in meta_keys:\n",
    "            clean_keys += [i.strip() for i in item.strings]\n",
    "        for item in meta_values:\n",
    "            clean_values.append([i.strip() for i in item.strings])\n",
    "        clean_values[0] = ''.join(clean_values[0]).split('<[email\\xa0protected]>')[0].strip()\n",
    "        clean_values[1] = clean_values[1][0]\n",
    "        clean_values[2] = clean_values[2][0]\n",
    "        metadata = dict(zip(clean_keys, clean_values))\n",
    "\n",
    "        # get the message text\n",
    "        message_text = page_content.find('div', {'class': 'message-text'})\n",
    "        if message_text is None:\n",
    "            clean_text = \"FATAL ERROR: Failed to parse this email\"\n",
    "        else:\n",
    "            clean_text = ' '.join([item.strip().strip('_') for item in message_text.strings if (str(item) and len(item.strip().strip('_')) > 0)])\n",
    "\n",
    "        # save it all off\n",
    "        all_text[url] = metadata\n",
    "        all_text[url]['body'] = clean_text\n",
    "        \n",
    "    if export:\n",
    "        df = pd.DataFrame(all_text).T\n",
    "        df = df.reset_index().rename({'index': 'message_url'}, axis=1)\n",
    "        return df\n",
    "    else:\n",
    "        return all_text"
   ]
  },
  {
   "cell_type": "markdown",
   "id": "ef2699e5-36b5-40fc-b25e-67c8b41d7c77",
   "metadata": {},
   "source": [
    "# Get 50 of Warren's most recent messages"
   ]
  },
  {
   "cell_type": "code",
   "execution_count": 271,
   "id": "7f61c9f1-1884-404b-ac38-ab0bbc600837",
   "metadata": {},
   "outputs": [],
   "source": [
    "message_links = get_individual_message_links(ewarren_url)\n",
    "warren_contents = get_message_contents(message_links)\n",
    "warren_contents.to_csv('data/elizabeth_warren_50.csv')"
   ]
  },
  {
   "cell_type": "markdown",
   "id": "49148c7a-890d-44f3-b759-837120938282",
   "metadata": {},
   "source": [
    "# Get 50 of Trump's most recent messages"
   ]
  },
  {
   "cell_type": "code",
   "execution_count": 273,
   "id": "cf1dcc57-9faf-4935-b4b3-fcd26531dee2",
   "metadata": {},
   "outputs": [],
   "source": [
    "message_links = get_individual_message_links(dtrump_url)\n",
    "trump_contents = get_message_contents(message_links)\n",
    "trump_contents.to_csv('data/donald_trump_50.csv')"
   ]
  },
  {
   "cell_type": "code",
   "execution_count": null,
   "id": "4f529c9d-2cc1-49ba-89c7-b188b8f1216b",
   "metadata": {},
   "outputs": [],
   "source": []
  }
 ],
 "metadata": {
  "kernelspec": {
   "display_name": "Python 3 (ipykernel)",
   "language": "python",
   "name": "python3"
  },
  "language_info": {
   "codemirror_mode": {
    "name": "ipython",
    "version": 3
   },
   "file_extension": ".py",
   "mimetype": "text/x-python",
   "name": "python",
   "nbconvert_exporter": "python",
   "pygments_lexer": "ipython3",
   "version": "3.9.5"
  }
 },
 "nbformat": 4,
 "nbformat_minor": 5
}
